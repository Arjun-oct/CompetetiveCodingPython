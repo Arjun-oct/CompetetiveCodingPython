{
 "cells": [
  {
   "cell_type": "code",
   "execution_count": 1,
   "metadata": {},
   "outputs": [
    {
     "data": {
      "text/plain": [
       "4"
      ]
     },
     "execution_count": 1,
     "metadata": {},
     "output_type": "execute_result"
    }
   ],
   "source": [
    "# A = LIST\n",
    "# KEY = TARGET VALUE\n",
    "# SORTED ARRAY\n",
    "# TIME COMP = O(LOGN) \n",
    "# SPACE COMP = O(LOGN) (RECURSIVE) \n",
    "# SPACE COMP = O(1) (ITERATIVE)\n",
    "def binSearch(A,left,right,key):\n",
    "    while left <= right:\n",
    "        mid = (left+right) // 2\n",
    "        if A[mid] == key:\n",
    "            return mid\n",
    "        elif A[mid] < key:\n",
    "            left = mid+1\n",
    "        else:\n",
    "            # key < A[mid]\n",
    "            right = mid -1\n",
    "    return -1\n",
    "A = [25,35,80,96,200,500,850,999]\n",
    "KEY = 200\n",
    "binSearch(A,0,len(A)-1,KEY)\n",
    "            "
   ]
  },
  {
   "cell_type": "code",
   "execution_count": 2,
   "metadata": {},
   "outputs": [
    {
     "data": {
      "text/plain": [
       "4"
      ]
     },
     "execution_count": 2,
     "metadata": {},
     "output_type": "execute_result"
    }
   ],
   "source": [
    "# Bisect acts as a binary search\n",
    "import bisect\n",
    "A = [25,35,80,96,200,500,850,999]\n",
    "KEY = 200\n",
    "bisect.bisect_left(A,KEY,0,len(A))"
   ]
  },
  {
   "cell_type": "code",
   "execution_count": 3,
   "metadata": {},
   "outputs": [
    {
     "data": {
      "text/plain": [
       "[10, 7]"
      ]
     },
     "execution_count": 3,
     "metadata": {},
     "output_type": "execute_result"
    }
   ],
   "source": [
    "# A = List\n",
    "# K = Target\n",
    "# Unsorted List\n",
    "def findTargetPair(A,K):\n",
    "    st = set()\n",
    "    for i in range(len(A)):\n",
    "        complement = K - A[i]\n",
    "        if complement in st:\n",
    "            return [complement,A[i]]\n",
    "        else:\n",
    "            st.add(A[i])\n",
    "            \n",
    "A = [5,100,50,10,30,5,7,85,90,100]\n",
    "K = 17\n",
    "findTargetPair(A,K)"
   ]
  },
  {
   "cell_type": "code",
   "execution_count": null,
   "metadata": {},
   "outputs": [],
   "source": []
  }
 ],
 "metadata": {
  "kernelspec": {
   "display_name": "Python 3",
   "language": "python",
   "name": "python3"
  },
  "language_info": {
   "codemirror_mode": {
    "name": "ipython",
    "version": 3
   },
   "file_extension": ".py",
   "mimetype": "text/x-python",
   "name": "python",
   "nbconvert_exporter": "python",
   "pygments_lexer": "ipython3",
   "version": "3.8.3"
  }
 },
 "nbformat": 4,
 "nbformat_minor": 4
}
